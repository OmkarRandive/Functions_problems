{
 "cells": [
  {
   "cell_type": "code",
   "execution_count": 2,
   "id": "466b7dd9",
   "metadata": {},
   "outputs": [
    {
     "name": "stdout",
     "output_type": "stream",
     "text": [
      "first number : 4   second number : 9\n",
      "first number : 9   second number : 4\n"
     ]
    }
   ],
   "source": [
    "#write a function to swap two numbers.\n",
    "def swap(a,b):\n",
    "    print(\"first number :\",a,\" \",\"second number :\",b)\n",
    "    c=a\n",
    "    a=b\n",
    "    b=c\n",
    "    print(\"first number :\",a,\" \",\"second number :\",b)\n",
    "swap(4,9)\n",
    "    "
   ]
  },
  {
   "cell_type": "code",
   "execution_count": 3,
   "id": "2d807bf0",
   "metadata": {},
   "outputs": [
    {
     "name": "stdout",
     "output_type": "stream",
     "text": [
      "Enter a number: 31\n",
      "31  is prime number.\n"
     ]
    }
   ],
   "source": [
    "#write a function to check given number is prime number.\n",
    "x=int(input(\"Enter a number: \"))\n",
    "def prime_num(x):\n",
    "    for i in range(2,x):\n",
    "        if(x%i==0):\n",
    "            print(i,end=\" \")#To find factorials of a number\n",
    "            print(\"Number is not prime number.\")\n",
    "            break\n",
    "    else:\n",
    "        print(x,\" is prime number.\")\n",
    "prime_num(x)\n",
    "            "
   ]
  },
  {
   "cell_type": "code",
   "execution_count": 10,
   "id": "3a2c1b1a",
   "metadata": {},
   "outputs": [
    {
     "name": "stdout",
     "output_type": "stream",
     "text": [
      "Enter starting number : 2\n",
      "Enter ending number : 10\n",
      "2  is prime number.\n",
      "3  is prime number.\n",
      "5  is prime number.\n",
      "7  is prime number.\n"
     ]
    }
   ],
   "source": [
    "#write a function to find prime numbers in a range.\n",
    "lower=int(input(\"Enter starting number : \"))\n",
    "upper=int(input(\"Enter ending number : \"))\n",
    "def prime(lower,upper):\n",
    "    for num in range(lower,upper+1):\n",
    "        if(num>0):\n",
    "            for i in range(2,num):\n",
    "                if(num%i==0):\n",
    "                    break\n",
    "            else:\n",
    "                print(num,\" is prime number.\")\n",
    "prime(lower,upper)\n"
   ]
  },
  {
   "cell_type": "code",
   "execution_count": 13,
   "id": "41c58f7d",
   "metadata": {},
   "outputs": [
    {
     "name": "stdout",
     "output_type": "stream",
     "text": [
      "Enter a number: 4\n"
     ]
    },
    {
     "data": {
      "text/plain": [
       "24"
      ]
     },
     "execution_count": 13,
     "metadata": {},
     "output_type": "execute_result"
    }
   ],
   "source": [
    "#write a function to find factorial of a number.\n",
    "num=int(input(\"Enter a number: \"))\n",
    "def fact(num):\n",
    "    a=1\n",
    "    while(num>0):\n",
    "        a=a*num\n",
    "        num=num-1\n",
    "    return a\n",
    "fact(num)"
   ]
  },
  {
   "cell_type": "code",
   "execution_count": 13,
   "id": "d1a8bf19",
   "metadata": {},
   "outputs": [
    {
     "data": {
      "text/plain": [
       "9"
      ]
     },
     "execution_count": 13,
     "metadata": {},
     "output_type": "execute_result"
    }
   ],
   "source": [
    "#write a lambda function to add two numbers.\n",
    "add=lambda a,b:a+b\n",
    "add(4,5)"
   ]
  },
  {
   "cell_type": "code",
   "execution_count": 14,
   "id": "1913be26",
   "metadata": {},
   "outputs": [
    {
     "data": {
      "text/plain": [
       "True"
      ]
     },
     "execution_count": 14,
     "metadata": {},
     "output_type": "execute_result"
    }
   ],
   "source": [
    "#write a lambda function to check whether a number is even or not\n",
    "even=lambda x:(x%2==0)\n",
    "even(10)"
   ]
  },
  {
   "cell_type": "code",
   "execution_count": 15,
   "id": "a2c89e42",
   "metadata": {},
   "outputs": [
    {
     "name": "stdout",
     "output_type": "stream",
     "text": [
      "Enter your number : 26\n",
      "26  *  1  =  26\n",
      "26  *  2  =  52\n",
      "26  *  3  =  78\n",
      "26  *  4  =  104\n",
      "26  *  5  =  130\n",
      "26  *  6  =  156\n",
      "26  *  7  =  182\n",
      "26  *  8  =  208\n",
      "26  *  9  =  234\n",
      "26  *  10  =  260\n"
     ]
    }
   ],
   "source": [
    "#write a function to display multiplication table.\n",
    "tab=int(input(\"Enter your number : \"))\n",
    "def table():\n",
    "    for i in range(1,11):\n",
    "        print(tab,\" * \",i,\" = \",tab*i)\n",
    "table()"
   ]
  },
  {
   "cell_type": "code",
   "execution_count": 20,
   "id": "ae38320c",
   "metadata": {},
   "outputs": [
    {
     "name": "stdout",
     "output_type": "stream",
     "text": [
      "Enter your starting number: 365\n",
      "Enter your ending number: 372\n",
      "365 is not an armstrong number.\n",
      "366 is not an armstrong number.\n",
      "367 is not an armstrong number.\n",
      "368 is not an armstrong number.\n",
      "369 is not an armstrong number.\n",
      "370 is an armstrong number.\n",
      "371 is an armstrong number.\n",
      "372 is not an armstrong number.\n"
     ]
    }
   ],
   "source": [
    "#write a function to find armstrong number in an interval.\n",
    "#armstrong number is a number which is equal to sum of the power of its digits.\n",
    "start=int(input(\"Enter your starting number: \"))\n",
    "end=int(input(\"Enter your ending number: \"))\n",
    "def armstrong(start,end):\n",
    "    for num in range(start,end+1):\n",
    "        sum=0\n",
    "        order=len(str(num))\n",
    "        copy_num=num\n",
    "        while(num>0):\n",
    "            digit=num%10\n",
    "            sum+=digit**order\n",
    "            num=num//10\n",
    "        if(copy_num==sum):\n",
    "            print(f\"{copy_num} is an armstrong number.\")\n",
    "        else:\n",
    "            print(f\"{copy_num} is not an armstrong number.\")\n",
    "armstrong(start,end)"
   ]
  },
  {
   "cell_type": "code",
   "execution_count": 22,
   "id": "db9141b3",
   "metadata": {},
   "outputs": [
    {
     "name": "stdout",
     "output_type": "stream",
     "text": [
      "Sum of natural numbers till  15  is :  120\n"
     ]
    }
   ],
   "source": [
    "#write a function to find sum of natural numbers.\n",
    "#if no number is given then take number as 10.\n",
    "def sum_natural(num=10):\n",
    "    sum=0\n",
    "    i=1\n",
    "    while(i<=num):\n",
    "        sum=sum+i\n",
    "        i=i+1\n",
    "    print(\"Sum of natural numbers till \",num,\" is : \",sum)\n",
    "sum_natural(15)\n",
    "        "
   ]
  },
  {
   "cell_type": "code",
   "execution_count": 24,
   "id": "29fec681",
   "metadata": {},
   "outputs": [
    {
     "name": "stdout",
     "output_type": "stream",
     "text": [
      "Enter first number : 36\n",
      "Enter second number : 24\n",
      "HCF of  36  and  24  is  12\n"
     ]
    }
   ],
   "source": [
    "#write a function to find hcf of two numbers.\n",
    "a=int(input(\"Enter first number : \"))\n",
    "b=int(input(\"Enter second number : \"))\n",
    "def hcf(a,b):\n",
    "    for i in range(1,a+1):\n",
    "        if(a%i==0 and b%i==0):\n",
    "            hcf=i\n",
    "    print(\"HCF of \",a,\" and \",b,\" is \",hcf)\n",
    "hcf(a,b)\n",
    "    "
   ]
  },
  {
   "cell_type": "code",
   "execution_count": 27,
   "id": "73bbe307",
   "metadata": {},
   "outputs": [
    {
     "name": "stdout",
     "output_type": "stream",
     "text": [
      "Enter first number : 12\n",
      "ENter second number : 14\n",
      "LCM of  12  and  14  is  84\n"
     ]
    }
   ],
   "source": [
    "#python program to find lcm of two numbers.\n",
    "a=int(input(\"Enter first number : \"))\n",
    "b=int(input(\"ENter second number : \"))\n",
    "def lcm(a,b):\n",
    "    for i in range(max(a,b),1+(a*b)):\n",
    "        if(i%a==i%b==0):\n",
    "            lcm=i\n",
    "            break\n",
    "    print(\"LCM of \",a,\" and \",b,\" is \",lcm)\n",
    "lcm(a,b)"
   ]
  },
  {
   "cell_type": "code",
   "execution_count": 6,
   "id": "6aedc451",
   "metadata": {},
   "outputs": [
    {
     "name": "stdout",
     "output_type": "stream",
     "text": [
      "Enter the string : 16461\n",
      "16461  is palindrome.\n"
     ]
    }
   ],
   "source": [
    "#python program to check whether a string is palindrome or not\n",
    "a=str(input(\"Enter the string : \"))\n",
    "def palindrome(a):\n",
    "    b=a[::-1]\n",
    "    if(a==b):\n",
    "        print(a,\" is palindrome.\")\n",
    "    else:\n",
    "        print(a,\" is not a palindrome.\")\n",
    "palindrome(a)"
   ]
  },
  {
   "cell_type": "code",
   "execution_count": 30,
   "id": "adb10849",
   "metadata": {},
   "outputs": [
    {
     "name": "stdout",
     "output_type": "stream",
     "text": [
      "Enter the string : omkar!@#$randive*&^\n",
      "omkarrandive\n"
     ]
    }
   ],
   "source": [
    "#write a function to remove punctuations from a string.\n",
    "pun=str(input(\"Enter the string : \"))\n",
    "def punctuation(pun):\n",
    "    punctuations=(\"[],{},!@#$%^&*<>.\")\n",
    "    remove=\"\"\n",
    "    for i in pun:\n",
    "        if i not in punctuations:\n",
    "            remove=remove+i\n",
    "    print(remove)\n",
    "punctuation(pun)\n"
   ]
  },
  {
   "cell_type": "code",
   "execution_count": 31,
   "id": "bc854ff1",
   "metadata": {},
   "outputs": [
    {
     "name": "stdout",
     "output_type": "stream",
     "text": [
      "['country', 'india', 'is', 'my', 'name']\n"
     ]
    }
   ],
   "source": [
    "#write a function to sort word in alphabetical order.\n",
    "def sort(word):\n",
    "    sorts=word.lower().split()\n",
    "    sorts.sort()\n",
    "    print(sorts)\n",
    "sort(word=\"My country name is INDIA\")"
   ]
  },
  {
   "cell_type": "code",
   "execution_count": 32,
   "id": "c631ea3c",
   "metadata": {},
   "outputs": [
    {
     "name": "stdout",
     "output_type": "stream",
     "text": [
      "Number of vowels in a word are  10\n"
     ]
    }
   ],
   "source": [
    "#write a function to check number of vowels.\n",
    "vowels=[\"a\",\"e\",\"i\",\"o\",\"u\",\"A\",\"E\",\"I\",\"O\",\"U\"]\n",
    "def num_vowels(word):\n",
    "    count=0\n",
    "    for i in word:\n",
    "        if i in vowels:\n",
    "            count=count+1\n",
    "    print(\"Number of vowels in a word are \",count)\n",
    "num_vowels(\"My name is Omkar Arun Randive\")\n",
    "            "
   ]
  },
  {
   "cell_type": "code",
   "execution_count": 1,
   "id": "06d4d310",
   "metadata": {},
   "outputs": [
    {
     "data": {
      "text/plain": [
       "18"
      ]
     },
     "execution_count": 1,
     "metadata": {},
     "output_type": "execute_result"
    }
   ],
   "source": [
    "#Write a Python function to sum all the numbers\n",
    "#list=(1,4,2,9,8,1)\n",
    "def sum(numbers):\n",
    "    total=0\n",
    "    for i in numbers:\n",
    "        total=total+i\n",
    "    return total\n",
    "sum((1,4,3,8,2))"
   ]
  },
  {
   "cell_type": "code",
   "execution_count": 5,
   "id": "4e628dd2",
   "metadata": {},
   "outputs": [
    {
     "data": {
      "text/plain": [
       "5760"
      ]
     },
     "execution_count": 5,
     "metadata": {},
     "output_type": "execute_result"
    }
   ],
   "source": [
    "#write a python function to multiply all the numbers.\n",
    "#numbers=(1,2,3,4,5,6,8)\n",
    "def multiply(numbers):\n",
    "    total=1\n",
    "    for i in numbers:\n",
    "        total=total*i\n",
    "    return total\n",
    "multiply((1,2,3,4,5,6,8))\n",
    "    "
   ]
  },
  {
   "cell_type": "code",
   "execution_count": 11,
   "id": "86c97ef8",
   "metadata": {},
   "outputs": [
    {
     "name": "stdout",
     "output_type": "stream",
     "text": [
      "Original string is :  123defg\n",
      "reversed string is :  gfed321\n"
     ]
    }
   ],
   "source": [
    "#write a function to reverse a string.\n",
    "def string(string1):\n",
    "    string2=string1[::-1]\n",
    "    print(\"Original string is : \", string1)\n",
    "    print(\"reversed string is : \", string2)\n",
    "string((\"123defg\"))"
   ]
  },
  {
   "cell_type": "code",
   "execution_count": 12,
   "id": "b749f503",
   "metadata": {},
   "outputs": [
    {
     "name": "stdout",
     "output_type": "stream",
     "text": [
      "Original string is:  1234abcd\n",
      "Reverse string is :  dcba4321\n"
     ]
    }
   ],
   "source": [
    "#write a function to reverse a string.\n",
    "def string(string1):\n",
    "    string2=\"\"\n",
    "    digit=len(string1)\n",
    "    while digit>0:\n",
    "        string2=string2+string1[digit-1]\n",
    "        digit=digit-1\n",
    "    print(\"Original string is: \", string1)\n",
    "    print(\"Reverse string is : \", string2)\n",
    "string((\"1234abcd\"))"
   ]
  },
  {
   "cell_type": "markdown",
   "id": "8887dbdd",
   "metadata": {},
   "source": []
  },
  {
   "cell_type": "code",
   "execution_count": 4,
   "id": "5977de33",
   "metadata": {},
   "outputs": [
    {
     "data": {
      "text/plain": [
       "True"
      ]
     },
     "execution_count": 4,
     "metadata": {},
     "output_type": "execute_result"
    }
   ],
   "source": [
    "#write a function to check whether a number is given range or not.\n",
    "#num=int(input(\"Enter a number to check whether it is in given range.\"))\n",
    "#start=int(input(\"Enter starting number.\"))\n",
    "#end=int(input(\"Enter ending number.\"))\n",
    "def range_checking(num,start,end):\n",
    "        if (num>=start and num<=end):\n",
    "            return True\n",
    "range_checking(5,1,30)"
   ]
  },
  {
   "cell_type": "code",
   "execution_count": 7,
   "id": "9eea824e",
   "metadata": {},
   "outputs": [
    {
     "name": "stdout",
     "output_type": "stream",
     "text": [
      "Upper letters :  2\n",
      "lower letters :  11\n"
     ]
    }
   ],
   "source": [
    "#write a python program for upper case and lower case characters count.\n",
    "def case_count(string):\n",
    "    lower_case=0\n",
    "    upper_case=0\n",
    "    for i in string:\n",
    "        if i.isupper():\n",
    "            upper_case=upper_case+1\n",
    "        elif i.islower():\n",
    "            lower_case=lower_case+1\n",
    "    print(\"Upper letters : \", upper_case)\n",
    "    print(\"lower letters : \", lower_case)\n",
    "case_count(\"My name is Omkar\")"
   ]
  },
  {
   "cell_type": "code",
   "execution_count": 9,
   "id": "bb4d9ea4",
   "metadata": {},
   "outputs": [
    {
     "name": "stdout",
     "output_type": "stream",
     "text": [
      "unique elements are:  [1, 2, 3, 4, 5]\n"
     ]
    }
   ],
   "source": [
    "#write a function that takes a list and returns unique elements of a list.\n",
    "def unique(a):\n",
    "    x=[]\n",
    "    for i in a:\n",
    "        if i not in x:\n",
    "            x.append(i)\n",
    "    print(\"unique elements are: \",x)\n",
    "unique([1,2,3,3,3,4,4,5,1])"
   ]
  },
  {
   "cell_type": "code",
   "execution_count": 11,
   "id": "eaaed0d1",
   "metadata": {},
   "outputs": [
    {
     "name": "stdout",
     "output_type": "stream",
     "text": [
      "even numbers are :  [2, 4, 6, 8]\n"
     ]
    }
   ],
   "source": [
    "#write a number to print the even numbers in the list.\n",
    "def even_num(numbers):\n",
    "    even=[]\n",
    "    for i in numbers:\n",
    "        if i%2==0:\n",
    "            even.append(i)\n",
    "    print(\"even numbers are : \" ,even)\n",
    "even_num([1,2,3,4,5,6,7,8,9])\n"
   ]
  },
  {
   "cell_type": "code",
   "execution_count": 1,
   "id": "21a33e0d",
   "metadata": {},
   "outputs": [
    {
     "name": "stdout",
     "output_type": "stream",
     "text": [
      "Enter the number to check it is perfect or not : 6\n",
      "Number is a perfect number.\n"
     ]
    }
   ],
   "source": [
    "#write a number to check it is perfect or not.\n",
    "n=int(input(\"Enter the number to check it is perfect or not : \"))\n",
    "def perfect_num(n):\n",
    "    sum=0\n",
    "    for i in range(1,n):\n",
    "        if n % i==0:\n",
    "            sum=sum+i\n",
    "    if sum==n:\n",
    "        print(\"Number is a perfect number.\")\n",
    "perfect_num(n)\n",
    "                "
   ]
  },
  {
   "cell_type": "code",
   "execution_count": 5,
   "id": "d0e29b42",
   "metadata": {},
   "outputs": [
    {
     "name": "stdout",
     "output_type": "stream",
     "text": [
      "[1, 8, 27, 64, 125, 216, 343, 512, 729, 1000, 1331, 1728, 2197, 2744, 3375, 4096, 4913, 5832, 6859, 8000]\n"
     ]
    }
   ],
   "source": [
    "#write a function to print square of list of numbers.\n",
    "def square():\n",
    "    a=list()\n",
    "    for i in range(1,21):\n",
    "        a.append(i**3)\n",
    "    print(a)\n",
    "square()\n",
    "        "
   ]
  },
  {
   "cell_type": "code",
   "execution_count": null,
   "id": "d0d54836",
   "metadata": {},
   "outputs": [],
   "source": []
  },
  {
   "cell_type": "code",
   "execution_count": null,
   "id": "e0ed9c0d",
   "metadata": {},
   "outputs": [],
   "source": []
  },
  {
   "cell_type": "code",
   "execution_count": null,
   "id": "a2884025",
   "metadata": {},
   "outputs": [],
   "source": []
  }
 ],
 "metadata": {
  "kernelspec": {
   "display_name": "Python 3 (ipykernel)",
   "language": "python",
   "name": "python3"
  },
  "language_info": {
   "codemirror_mode": {
    "name": "ipython",
    "version": 3
   },
   "file_extension": ".py",
   "mimetype": "text/x-python",
   "name": "python",
   "nbconvert_exporter": "python",
   "pygments_lexer": "ipython3",
   "version": "3.9.13"
  }
 },
 "nbformat": 4,
 "nbformat_minor": 5
}
